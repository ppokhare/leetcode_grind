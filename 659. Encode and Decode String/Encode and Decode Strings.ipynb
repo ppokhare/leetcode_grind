{
 "cells": [
  {
   "cell_type": "markdown",
   "metadata": {},
   "source": [
    "### 659. Encode and Decode Strings\n",
    "\n",
    "Design an algorithm to encode a list of strings to a string. The encoded string is then sent over the network and is decoded back to the original list of strings.\n",
    "\n",
    "Ways to encode: ['probee', 'loves', 'to', 'code']  \n",
    "    1. 'probeelovestocode': how will you decode this? No way of knowing when to stop and when to start when decoding.\n",
    "    2. 'probee-loves-to-code': delimiter is nice but what if delimiter exists in the list itself.  \n",
    "    for example: ['pro-bee', 'code']. Encoded string: 'pro-bee-code'. When you decode, you get: ['pro', 'bee', 'code']  \n",
    "    3. '6probee5loves2to4code': You know where exactly to stop and start, But what if elt in list has lenght > 10.  \n",
    "    for example: ['hummingbird', 'flies'], encoded strong: 11hummingbird5flies. when you decode, you an error because you only count first '1' in the encoded string.   \n",
    "    4. '11-hummingbird5-flies': This works fine. You know when to stop and when to start. No problem even when you have numbers  in the string when decoding.  "
   ]
  },
  {
   "cell_type": "code",
   "execution_count": 47,
   "metadata": {},
   "outputs": [],
   "source": [
    "class Solution:\n",
    "   \n",
    "    def encode(self, strs):\n",
    "        \"\"\"\n",
    "        @param: strs: a list of strings\n",
    "        @return: encodes a list of strings to a single string.\n",
    "        \"\"\"\n",
    "        result = ''\n",
    "        for s in strs:\n",
    "            result += str(len(s)) + '-' +s # add len(s)- to each elt in strs\n",
    "        return result\n",
    "    \n",
    "    \n",
    "    def decode(self, str):\n",
    "        \"\"\"\n",
    "        @param: str: A string\n",
    "        @return: dcodes a single string to a list of strings\n",
    "        \"\"\"\n",
    "        i = 0\n",
    "        result = []\n",
    "        while i<len(str):\n",
    "            num = ''\n",
    "            while i < len(str) and str[i] != '-': # finding the number which is until we see '-'\n",
    "                num += str[i]\n",
    "                i+=1\n",
    "            num = int(num)\n",
    "            result.append(str[i+1:i+num+1])\n",
    "            i = i+num+1\n",
    "        return result"
   ]
  },
  {
   "cell_type": "code",
   "execution_count": 48,
   "metadata": {},
   "outputs": [
    {
     "name": "stdout",
     "output_type": "stream",
     "text": [
      "18-prob454354-3redfee5-loves4-3-to4-code\n"
     ]
    },
    {
     "data": {
      "text/plain": [
       "['prob454354-3redfee', 'loves', '3-to', 'code']"
      ]
     },
     "execution_count": 48,
     "metadata": {},
     "output_type": "execute_result"
    }
   ],
   "source": [
    "sol = Solution()\n",
    "enc = sol.encode(['prob454354-3redfee', 'loves', '3-to', 'code']  )\n",
    "print(enc)\n",
    "sol.decode(enc)"
   ]
  },
  {
   "cell_type": "code",
   "execution_count": null,
   "metadata": {},
   "outputs": [],
   "source": []
  },
  {
   "cell_type": "code",
   "execution_count": null,
   "metadata": {},
   "outputs": [],
   "source": []
  }
 ],
 "metadata": {
  "kernelspec": {
   "display_name": "Python 3.9.7 64-bit",
   "language": "python",
   "name": "python3"
  },
  "language_info": {
   "codemirror_mode": {
    "name": "ipython",
    "version": 3
   },
   "file_extension": ".py",
   "mimetype": "text/x-python",
   "name": "python",
   "nbconvert_exporter": "python",
   "pygments_lexer": "ipython3",
   "version": "3.9.7"
  },
  "orig_nbformat": 4,
  "vscode": {
   "interpreter": {
    "hash": "b0fa6594d8f4cbf19f97940f81e996739fb7646882a419484c72d19e05852a7e"
   }
  }
 },
 "nbformat": 4,
 "nbformat_minor": 2
}
